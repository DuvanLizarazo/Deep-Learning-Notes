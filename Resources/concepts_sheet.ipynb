{
 "cells": [
  {
   "cell_type": "markdown",
   "id": "7b443fb1-4e16-40f0-87ef-17de56e3ad60",
   "metadata": {},
   "source": [
    "# CONCEPTS SHEET"
   ]
  },
  {
   "cell_type": "markdown",
   "id": "08d5d373-f253-4a86-b054-d777475f82d3",
   "metadata": {},
   "source": [
    "**ML:** Machine learning"
   ]
  },
  {
   "cell_type": "code",
   "execution_count": null,
   "id": "86a616f1-7ac7-4f96-ac3c-1a771d2e3fa3",
   "metadata": {},
   "outputs": [],
   "source": []
  }
 ],
 "metadata": {
  "kernelspec": {
   "display_name": "Python 3 (ipykernel)",
   "language": "python",
   "name": "python3"
  },
  "language_info": {
   "codemirror_mode": {
    "name": "ipython",
    "version": 3
   },
   "file_extension": ".py",
   "mimetype": "text/x-python",
   "name": "python",
   "nbconvert_exporter": "python",
   "pygments_lexer": "ipython3",
   "version": "3.11.4"
  }
 },
 "nbformat": 4,
 "nbformat_minor": 5
}
