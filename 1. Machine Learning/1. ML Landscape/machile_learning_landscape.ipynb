{
 "cells": [
  {
   "cell_type": "markdown",
   "id": "39b21e4b-6898-4ee1-90b2-1077d257716e",
   "metadata": {},
   "source": [
    "# MACHILE LEARNING (ML) LANDSCAPE"
   ]
  },
  {
   "cell_type": "markdown",
   "id": "a3c2ff96-1d43-4ebb-921d-8f6f64f3cd95",
   "metadata": {},
   "source": [
    "## MACHINE LEARNING DEFINITION\n",
    "\n",
    "[Machine Learning is the] field of study that gives computers the ability to learn\n",
    "without being explicitly programmed.\n",
    "—Arthur Samuel, 1959\n",
    "\n",
    "### When use ML?\n",
    "\n",
    "We could use machine learning if we are facing any of the following scenearios:\n",
    "\n",
    "• Problems for which existing solutions require a lot of hand-tuning or long lists of\n",
    "rules: one Machine Learning algorithm can often simplify code and perform better.\n",
    "\n",
    "• Complex problems for which there is no good solution at all using a traditional\n",
    "approach: the best Machine Learning techniques can find a solution.\n",
    "\n",
    "• Fluctuating environments: a Machine Learning system can adapt to new data.\n",
    "\n",
    "• Getting insights about complex problems and large amounts of data.\n",
    "\n",
    "***\n",
    "\n",
    "## TYPES OF ML\n",
    "\n",
    "We can categorize machine learning into various types based on their training supervision, adaptability to real-time learning, or reliance on comparing new data points with known ones.\n",
    "\n",
    "### Supervised/Unsupervised Learning\n",
    "\n",
    "#### Supervised learning\n",
    "Supervised learning is a machine learning paradigm where the algorithm learns from labeled data, which means it is provided with input-output pairs during training. The goal is to learn a mapping from inputs to outputs, allowing the algorithm to make predictions or decisions on unseen data.\n",
    "For example, consider a supervised learning task of predicting house prices based on features such as size, number of bedrooms, and location. In this case, the algorithm would be trained on a dataset where each data point includes features of a house (input) along with its corresponding sale price (output). By learning from this labeled data, the algorithm can then predict the price of a new house given its features.\n",
    "Some of the most important supervised learning algorithms are.\n",
    "\n",
    "    • k-Nearest Neighbors\n",
    "    \n",
    "    • Linear Regression\n",
    "    \n",
    "    • Logistic Regression\n",
    "    \n",
    "    • Support Vector Machines (SVMs)\n",
    "    \n",
    "    • Decision Trees and Random Forests\n",
    "    \n",
    "    • Neural networks2\n",
    "\n",
    "#### Unsupervised learning\n",
    "Unsupervised learning is a machine learning paradigm where the algorithm learns patterns and structures from unlabeled data. It aims to discover hidden relationships or groupings within the data without explicit guidance.\n",
    "An example of unsupervised learning is clustering customer data based on purchasing behavior. The algorithm groups customers into clusters based on similarities in their purchase history, without any predefined labels or categories. This can help businesses identify customer segments and tailor marketing strategies accordingly.\n",
    "\n",
    "    • K-Means Clustering\n",
    "    \n",
    "    • Hierarchical Clustering\n",
    "    \n",
    "    •Principal Component Analysis (PCA)\n",
    "    \n",
    "    •Autoencoders\n",
    "    \n",
    "    •Generative Adversarial Networks (GANs)\n",
    "    \n",
    "    •Apriori Algorithm\n",
    "\n",
    "#### Semisupervised learning\n",
    "Semi-supervised learning is a paradigm that combines aspects of both supervised and unsupervised learning. In semi-supervised learning, the algorithm leverages a small amount of labeled data along with a larger pool of unlabeled data to improve its performance in tasks such as classification or regression.A practical example of semi-supervised learning is in document classification. Suppose you have a large collection of text documents, but only a small subset of them are labeled with their corresponding categories (e.g., \"sports,\" \"politics,\" \"technology\"). By employing semi-supervised learning techniques, such as co-training or self-training, the algorithm can utilize both the labeled documents and the unlabeled ones to improve its classification accuracy. It might initially learn from the labeled documents and then use its confidence in those predictions to make predictions on the unlabeled documents, iteratively refining its model with each iteration.\n",
    "\n",
    "### Reinforcement learning\n",
    "\n",
    "Reinforcement learning (RL) is a type of machine learning where an agent learns to make decisions by interacting with an environment. Unlike supervised learning, where the algorithm is trained on labeled data, and unsupervised learning, which deals with unlabeled data, reinforcement learning operates on a different principle: trial and error.In reinforcement learning, the agent takes actions in an environment and receives feedback in the form of rewards or penalties, indicating how well it performed the task. The goal of the agent is to learn a policy—a strategy for selecting actions based on states—that maximizes cumulative reward over time.\n",
    "A classic example of reinforcement learning is training an AI to play a game, such as chess or Go. The agent (the AI player) interacts with the game environment by making moves and receives feedback in the form of wins, losses, or draws. By learning from these outcomes through trial and error, the agent gradually improves its strategy, learning to make better moves that lead to higher chances of winning.\n"
   ]
  },
  {
   "cell_type": "code",
   "execution_count": null,
   "id": "d5636fd7-bfe3-469d-b527-65936bc61b59",
   "metadata": {},
   "outputs": [],
   "source": []
  }
 ],
 "metadata": {
  "kernelspec": {
   "display_name": "Python 3 (ipykernel)",
   "language": "python",
   "name": "python3"
  },
  "language_info": {
   "codemirror_mode": {
    "name": "ipython",
    "version": 3
   },
   "file_extension": ".py",
   "mimetype": "text/x-python",
   "name": "python",
   "nbconvert_exporter": "python",
   "pygments_lexer": "ipython3",
   "version": "3.11.4"
  }
 },
 "nbformat": 4,
 "nbformat_minor": 5
}
